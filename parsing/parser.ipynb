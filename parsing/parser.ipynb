{
 "cells": [
  {
   "cell_type": "code",
   "execution_count": 1,
   "metadata": {},
   "outputs": [],
   "source": [
    "import requests\n",
    "import json\n",
    "import re\n",
    "from bs4 import BeautifulSoup\n",
    "import pandas as pd"
   ]
  },
  {
   "cell_type": "code",
   "execution_count": 2,
   "metadata": {},
   "outputs": [],
   "source": [
    "def cleaner(url):\n",
    "    response = requests.get(url)\n",
    "    soup = BeautifulSoup(response.text, 'html.parser')\n",
    "    paragraphs = soup.findAll('p')\n",
    "\n",
    "    text = ''\n",
    "    p = re.compile('<.*?>')\n",
    "    for paragraph in paragraphs:\n",
    "        text += re.sub(p, '', str(paragraph))\n",
    "    return text"
   ]
  },
  {
   "cell_type": "code",
   "execution_count": 3,
   "metadata": {},
   "outputs": [],
   "source": [
    "def create_csv(label, data):\n",
    "    df = pd.DataFrame(data=data, columns=['title', 'url', 'text'])\n",
    "    df.to_csv(path_or_buf='./data/' + label + '.csv', index=False)"
   ]
  },
  {
   "cell_type": "code",
   "execution_count": 4,
   "metadata": {},
   "outputs": [],
   "source": [
    "banks_en = ['absolutbank', 'akbars', 'alfabank', 'avangard',\n",
    "            'bcs-bank', 'binbankcreditcard', 'binbank', 'bnpparibaseast',\n",
    "            'bspb', 'citibank', 'crediteuropebank', 'deltacredit',\n",
    "            'fk_otkritie', 'gazprombank', 'homecreditbank', 'jugra',\n",
    "            'locko-bank', 'minbank', 'mkb', 'modulbank',\n",
    "            'mosoblbank', 'mts-bank', 'otpbank', 'pochtabank',\n",
    "            'promsvyazbank', 'qiwibank', 'raiffeisen', 'rencredit',\n",
    "            'rgsbank', 'rosbank', 'roscap', 'rsb',\n",
    "            'rshb', 'rusfinancebank', 'sberbank', 'skb-bank',\n",
    "            'smpbank', 'sovcombank', 'tcs', 'touchbank',\n",
    "            'transcapitalbank', 'trust', 'ubrr', 'unicreditbank',\n",
    "            'uralsib', 'v-express-bank', 'vozrozhdenie', 'vtb24',\n",
    "            'vtb', 'yandexdengi']\n",
    "banks_ru = ['абсолют+банк', 'ак+барс+банк', 'альфа+банк', 'авангард+банк',\n",
    "            'бкс+банк', 'бинбанк+кредит+кард', 'бинбанк', 'бнп+париба+восток',\n",
    "            'банк+санкт+петербург', 'ситибанк', 'кредит+европа+банк', 'дельта+кредит',\n",
    "            'фк+открытие', 'газпромбанк', 'хоум+кредит+банк', 'югра',\n",
    "            'локо+банк', 'московский+индустриальный+банк', 'московский+кредитный+банк', 'модульбанк',\n",
    "            'мособлбанк', 'мтс+банк', 'отп+банк', 'почта+банк',\n",
    "            'промсвязьбанк', 'киви+банк', 'райффайзен', 'ренессанс+кредит',\n",
    "            'росгосстрах+банк', 'росбанк', 'российский+капитал', 'русский+стандарт+банк',\n",
    "            'россельхозбанк', 'русфинанс+банк', 'сбербанк', 'скб+банк',\n",
    "            'смп+банк', 'совкомбанк', 'тинькофф', 'touch+bank',\n",
    "            'транскапиталбанк', 'траст+банк', 'уральский+банк+реконструкции+и+развития', 'юникредит+банк',\n",
    "            'уралсиб', 'восточный+экспресс+банк', 'возрождение+банк', 'втб24',\n",
    "            'втб', 'яндекс+деньги']\n",
    "unused_banks_ru = ['бинбанк+кредит+кард', 'российский+капитал']"
   ]
  },
  {
   "cell_type": "code",
   "execution_count": 5,
   "metadata": {},
   "outputs": [],
   "source": [
    "url = None\n",
    "response = None\n",
    "prefix = 'https://lenta.ru/search/v2/process?from='\n",
    "suffix = '0&size=10&sort=2&title_only=0&domain=1&modified,format=yyyy-MM-dd&bloc=4&query='\n",
    "\n",
    "max_news = 20\n",
    "for i in range(len(banks_en)):\n",
    "    if (banks_ru[i] not in unused_banks_ru):\n",
    "        bank_news = []\n",
    "        continue_parsing = True\n",
    "        index = 0\n",
    "        while continue_parsing:\n",
    "            if index == 0:\n",
    "                url = prefix + suffix + banks_ru[i]\n",
    "            else:\n",
    "                url = prefix + str(index) + suffix + banks_ru[i]\n",
    "            index += 1\n",
    "\n",
    "            response = requests.get(url)\n",
    "            if response.ok and len(response.json()['matches']) != 0:\n",
    "                for news in response.json()['matches']:\n",
    "                    bank_news.append({'title': news['title'], 'url': news['url'], 'text': cleaner(news['url'])})\n",
    "                    if len(bank_news) == max_news:\n",
    "                        continue_parsing = False\n",
    "                        break\n",
    "            else:\n",
    "                continue_parsing = False\n",
    "\n",
    "        create_csv(banks_en[i], bank_news)"
   ]
  },
  {
   "cell_type": "code",
   "execution_count": null,
   "metadata": {},
   "outputs": [],
   "source": []
  }
 ],
 "metadata": {
  "kernelspec": {
   "display_name": "Python 3",
   "language": "python",
   "name": "python3"
  },
  "language_info": {
   "codemirror_mode": {
    "name": "ipython",
    "version": 3
   },
   "file_extension": ".py",
   "mimetype": "text/x-python",
   "name": "python",
   "nbconvert_exporter": "python",
   "pygments_lexer": "ipython3",
   "version": "3.6.7"
  }
 },
 "nbformat": 4,
 "nbformat_minor": 2
}
