{
 "cells": [
  {
   "cell_type": "code",
   "execution_count": null,
   "metadata": {},
   "outputs": [],
   "source": [
    "import requests\n",
    "import json"
   ]
  },
  {
   "cell_type": "code",
   "execution_count": null,
   "metadata": {},
   "outputs": [],
   "source": [
    "url = None\n",
    "response = None\n",
    "\n",
    "prefix = 'https://lenta.ru/search/v2/process?from='\n",
    "suffix = '0&size=10&sort=2&title_only=0&domain=1&modified,format=yyyy-MM-dd&bloc=4&query='\n",
    "banks = ['абсолют+банк', 'ак+барс+банк', 'альфа+банк', 'авангард+банк', 'бинбанк',\n",
    "         'бнп+париба+восток', 'банк+санкт+петербург', 'ситибанк', 'кредит+европа+банк',\n",
    "         'дельта+кредит', 'фк+открытие', 'газпромбанк', 'хоум+кредит+банк',\n",
    "         'локо+банк', 'московский+индустриальный+банк', 'московский+кредитный+банк', 'модульбанк',\n",
    "         'мособлбанк', 'мтс+банк', 'отп+банк', 'отп+банк', 'почта+банк',\n",
    "         'промсвязьбанк', 'киви+банк', 'райффайзен', 'ренессанс+кредит',\n",
    "         'росгосстрах+банк', 'росбанк', 'русский+стандарт+банк', 'россельхозбанк',\n",
    "         'русфинанс+банк', 'сбербанк', 'скб+банк', 'смп+банк',\n",
    "         'совкомбанк', 'тинькофф', 'touch+bank', 'транскапиталбанк',\n",
    "         'траст+банк', 'уральский+банк+реконструкции+и+развития', 'юникредит+банк', 'уралсиб',\n",
    "         'восточный+экспресс+банк', 'возрождение+банк', 'втб24', 'втб', 'яндекс+деньги']\n",
    "unknown_banks = ['бкс+банк', 'российский+капитал'] # банки по котором поиск выдает хрень\n",
    "bank_news = {}\n",
    "max_news = 20\n",
    "continue_parsing = True\n",
    "\n",
    "for bank in banks:\n",
    "    bank_news.update({bank: []})\n",
    "    continue_parsing = True\n",
    "    index = 0\n",
    "    while continue_parsing:\n",
    "        if index == 0:\n",
    "            url = prefix + suffix + bank\n",
    "        else:\n",
    "            url = prefix + str(index) + suffix + bank\n",
    "        index += 1\n",
    "\n",
    "        response = requests.get(url)\n",
    "        if response.ok and len(response.json()['matches']) != 0:\n",
    "            for news in response.json()['matches']:\n",
    "                bank_news[bank].append({'title': news['title'], 'url': news['url']})\n",
    "                if len(bank_news[bank]) == max_news:\n",
    "                    continue_parsing = False\n",
    "                    break\n",
    "        else:\n",
    "            continue_parsing = False"
   ]
  },
  {
   "cell_type": "code",
   "execution_count": null,
   "metadata": {},
   "outputs": [],
   "source": [
    "bank_news['тинькофф'][0]"
   ]
  },
  {
   "cell_type": "code",
   "execution_count": null,
   "metadata": {},
   "outputs": [],
   "source": []
  }
 ],
 "metadata": {
  "kernelspec": {
   "display_name": "Python 3",
   "language": "python",
   "name": "python3"
  },
  "language_info": {
   "codemirror_mode": {
    "name": "ipython",
    "version": 3
   },
   "file_extension": ".py",
   "mimetype": "text/x-python",
   "name": "python",
   "nbconvert_exporter": "python",
   "pygments_lexer": "ipython3",
   "version": "3.6.7"
  }
 },
 "nbformat": 4,
 "nbformat_minor": 2
}
