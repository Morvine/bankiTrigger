{
 "cells": [
  {
   "cell_type": "code",
   "execution_count": 1,
   "metadata": {
    "colab": {},
    "colab_type": "code",
    "id": "S2MA-T3ThsIQ"
   },
   "outputs": [],
   "source": [
    "from __future__ import print_function\n",
    "from __future__ import division\n",
    "from future import standard_library\n",
    "import sys\n",
    "import os\n",
    "import wget\n",
    "import re\n",
    "from ufal.udpipe import Model, Pipeline"
   ]
  },
  {
   "cell_type": "code",
   "execution_count": 2,
   "metadata": {},
   "outputs": [
    {
     "name": "stdout",
     "output_type": "stream",
     "text": [
      "1.13.1\n"
     ]
    }
   ],
   "source": [
    "import os\n",
    "import string\n",
    "import tempfile\n",
    "import tensorflow as tf\n",
    "import numpy as np\n",
    "\n",
    "from tensorflow.python.keras.preprocessing import sequence\n",
    "from tensorboard import summary as summary_lib\n",
    "from sklearn.model_selection import train_test_split\n",
    "\n",
    "tf.logging.set_verbosity(tf.logging.INFO)\n",
    "print(tf.__version__)"
   ]
  },
  {
   "cell_type": "code",
   "execution_count": 3,
   "metadata": {
    "colab": {},
    "colab_type": "code",
    "id": "bILTD7RzhBet"
   },
   "outputs": [],
   "source": [
    "import pandas as pd\n",
    "import numpy as np\n",
    "from tqdm import tqdm"
   ]
  },
  {
   "cell_type": "code",
   "execution_count": 30,
   "metadata": {},
   "outputs": [],
   "source": [
    "from utils.preprocessing import *\n",
    "from utils.triplet_loss import *\n",
    "from utils.model import *"
   ]
  },
  {
   "cell_type": "markdown",
   "metadata": {},
   "source": [
    "### Подгружаем библиотке для разметки по частям речи при помощи UDPipe"
   ]
  },
  {
   "cell_type": "code",
   "execution_count": 5,
   "metadata": {
    "colab": {
     "base_uri": "https://localhost:8080/",
     "height": 86
    },
    "colab_type": "code",
    "id": "At0dHKJ6hBeg",
    "outputId": "378d5e34-1f7f-4600-cc14-b27fcbd897ee"
   },
   "outputs": [
    {
     "name": "stdout",
     "output_type": "stream",
     "text": [
      "\n",
      "Loading the model...\n",
      "\n",
      "Model loaded successfully\n"
     ]
    }
   ],
   "source": [
    "standard_library.install_aliases()\n",
    "\n",
    "# URL of the UDPipe model\n",
    "udpipe_model_url = 'https://rusvectores.org/static/models/udpipe_syntagrus.model'\n",
    "udpipe_filename = udpipe_model_url.split('/')[-1]\n",
    "\n",
    "if not os.path.isfile(udpipe_filename):\n",
    "    print('UDPipe model not found. Downloading...')\n",
    "    wget.download(udpipe_model_url)\n",
    "\n",
    "print('\\nLoading the model...')\n",
    "model = Model.load(udpipe_filename)\n",
    "process_pipeline = Pipeline(model, 'tokenize', Pipeline.DEFAULT, Pipeline.DEFAULT, 'conllu')\n",
    "\n",
    "print('\\nModel loaded successfully')"
   ]
  },
  {
   "cell_type": "code",
   "execution_count": 6,
   "metadata": {
    "colab": {},
    "colab_type": "code",
    "id": "eRaJNKfrhBe8"
   },
   "outputs": [
    {
     "data": {
      "text/html": [
       "<div>\n",
       "<style scoped>\n",
       "    .dataframe tbody tr th:only-of-type {\n",
       "        vertical-align: middle;\n",
       "    }\n",
       "\n",
       "    .dataframe tbody tr th {\n",
       "        vertical-align: top;\n",
       "    }\n",
       "\n",
       "    .dataframe thead th {\n",
       "        text-align: right;\n",
       "    }\n",
       "</style>\n",
       "<table border=\"1\" class=\"dataframe\">\n",
       "  <thead>\n",
       "    <tr style=\"text-align: right;\">\n",
       "      <th></th>\n",
       "      <th>author</th>\n",
       "      <th>bank</th>\n",
       "      <th>bank_response</th>\n",
       "      <th>comment_page</th>\n",
       "      <th>comments_n</th>\n",
       "      <th>rating</th>\n",
       "      <th>text</th>\n",
       "      <th>time</th>\n",
       "      <th>title</th>\n",
       "      <th>mark</th>\n",
       "    </tr>\n",
       "  </thead>\n",
       "  <tbody>\n",
       "    <tr>\n",
       "      <th>276</th>\n",
       "      <td>ShkolinaElena</td>\n",
       "      <td>sberbank</td>\n",
       "      <td>None</td>\n",
       "      <td>1</td>\n",
       "      <td>0</td>\n",
       "      <td>оценка:  1  проверяется</td>\n",
       "      <td>Снимал деньги в банкомате  20.03.2017        в...</td>\n",
       "      <td>07.04.2017 0:36</td>\n",
       "      <td>Не исправно работающие банкоматы проблема банка</td>\n",
       "      <td>1</td>\n",
       "    </tr>\n",
       "    <tr>\n",
       "      <th>280</th>\n",
       "      <td>yanamalkova94</td>\n",
       "      <td>sberbank</td>\n",
       "      <td>None</td>\n",
       "      <td>1</td>\n",
       "      <td>0</td>\n",
       "      <td>оценка:  1  проверяется</td>\n",
       "      <td>06.04.2017г. в 22:55 (дата указана на чеке) мн...</td>\n",
       "      <td>06.04.2017 23:12</td>\n",
       "      <td>Банкомат забрал деньги и выдал \"аварийный чек\"</td>\n",
       "      <td>1</td>\n",
       "    </tr>\n",
       "    <tr>\n",
       "      <th>281</th>\n",
       "      <td>Nataliivanova</td>\n",
       "      <td>sberbank</td>\n",
       "      <td>None</td>\n",
       "      <td>1</td>\n",
       "      <td>0</td>\n",
       "      <td>оценка:  1  проверяется</td>\n",
       "      <td>Я являюсь поручителем по просроченному кредиту...</td>\n",
       "      <td>06.04.2017 22:01</td>\n",
       "      <td>Политика только Калужского отделения банка?</td>\n",
       "      <td>1</td>\n",
       "    </tr>\n",
       "    <tr>\n",
       "      <th>282</th>\n",
       "      <td>nastenka.eroha</td>\n",
       "      <td>sberbank</td>\n",
       "      <td>None</td>\n",
       "      <td>1</td>\n",
       "      <td>0</td>\n",
       "      <td>оценка:  1  проверяется</td>\n",
       "      <td>6 апреля 2017года обратилась в отделение №5221...</td>\n",
       "      <td>06.04.2017 21:47</td>\n",
       "      <td>Некомпетентность сотрудников!</td>\n",
       "      <td>1</td>\n",
       "    </tr>\n",
       "    <tr>\n",
       "      <th>287</th>\n",
       "      <td>sparkimus</td>\n",
       "      <td>sberbank</td>\n",
       "      <td>None</td>\n",
       "      <td>1</td>\n",
       "      <td>0</td>\n",
       "      <td>оценка:  3  проверяется</td>\n",
       "      <td>Добрый день!Меня зовут Ольга Александровна(Шве...</td>\n",
       "      <td>06.04.2017 21:42</td>\n",
       "      <td>Сколько можно ждать???!!!</td>\n",
       "      <td>3</td>\n",
       "    </tr>\n",
       "  </tbody>\n",
       "</table>\n",
       "</div>"
      ],
      "text/plain": [
       "             author      bank bank_response  comment_page comments_n  \\\n",
       "276   ShkolinaElena  sberbank          None             1          0   \n",
       "280   yanamalkova94  sberbank          None             1          0   \n",
       "281   Nataliivanova  sberbank          None             1          0   \n",
       "282  nastenka.eroha  sberbank          None             1          0   \n",
       "287       sparkimus  sberbank          None             1          0   \n",
       "\n",
       "                      rating  \\\n",
       "276  оценка:  1  проверяется   \n",
       "280  оценка:  1  проверяется   \n",
       "281  оценка:  1  проверяется   \n",
       "282  оценка:  1  проверяется   \n",
       "287  оценка:  3  проверяется   \n",
       "\n",
       "                                                  text              time  \\\n",
       "276  Снимал деньги в банкомате  20.03.2017        в...   07.04.2017 0:36   \n",
       "280  06.04.2017г. в 22:55 (дата указана на чеке) мн...  06.04.2017 23:12   \n",
       "281  Я являюсь поручителем по просроченному кредиту...  06.04.2017 22:01   \n",
       "282  6 апреля 2017года обратилась в отделение №5221...  06.04.2017 21:47   \n",
       "287  Добрый день!Меня зовут Ольга Александровна(Шве...  06.04.2017 21:42   \n",
       "\n",
       "                                               title  mark  \n",
       "276  Не исправно работающие банкоматы проблема банка     1  \n",
       "280   Банкомат забрал деньги и выдал \"аварийный чек\"     1  \n",
       "281      Политика только Калужского отделения банка?     1  \n",
       "282                    Некомпетентность сотрудников!     1  \n",
       "287                        Сколько можно ждать???!!!     3  "
      ]
     },
     "execution_count": 6,
     "metadata": {},
     "output_type": "execute_result"
    }
   ],
   "source": [
    "data = pd.read_pickle('data/banki_ru/sberbank/replies.pkl')\n",
    "data.head()"
   ]
  },
  {
   "cell_type": "code",
   "execution_count": 7,
   "metadata": {
    "colab": {},
    "colab_type": "code",
    "id": "r9Mm95qKhBfB"
   },
   "outputs": [
    {
     "data": {
      "text/plain": [
       "['Не исправно работающие банкоматы проблема банка',\n",
       " 'Банкомат забрал деньги и выдал \"аварийный чек\"',\n",
       " 'Политика только Калужского отделения банка?',\n",
       " 'Некомпетентность сотрудников!',\n",
       " 'Сколько можно ждать???!!!']"
      ]
     },
     "execution_count": 7,
     "metadata": {},
     "output_type": "execute_result"
    }
   ],
   "source": [
    "txt = [title for title in data['title']]\n",
    "del data\n",
    "\n",
    "txt[:5]"
   ]
  },
  {
   "cell_type": "markdown",
   "metadata": {},
   "source": [
    "### Подгружаем предобученную w2v модель, производим лемматизация и векторизацию"
   ]
  },
  {
   "cell_type": "code",
   "execution_count": 8,
   "metadata": {
    "colab": {},
    "colab_type": "code",
    "id": "E7LaoAdjhBfI"
   },
   "outputs": [],
   "source": [
    "import io\n",
    "import zipfile\n",
    "import pathlib\n",
    "import urllib.request\n",
    "\n",
    "WORD2VEC_PATH = pathlib.Path('w2v_model/model.bin')\n",
    "\n",
    "if not WORD2VEC_PATH.exists():\n",
    "    print('Downloading model...')\n",
    "    model_url = 'http://vectors.nlpl.eu/repository/11/180.zip'\n",
    "    m = wget.download(model_url)\n",
    "    model_file = model_url.split('/')[-1]\n",
    "    with zipfile.ZipFile(model_file, 'r') as archive:\n",
    "        archive.extract('model.bin')\n",
    "        WORD2VEC_PATH = pathlib.Path('model.bin')"
   ]
  },
  {
   "cell_type": "code",
   "execution_count": 9,
   "metadata": {
    "colab": {},
    "colab_type": "code",
    "id": "AwjcQGG_hBfN"
   },
   "outputs": [],
   "source": [
    "# !pip install paramiko\n",
    "from gensim.models import KeyedVectors\n",
    "\n",
    "word2vec = KeyedVectors.load_word2vec_format(WORD2VEC_PATH, binary=True)"
   ]
  },
  {
   "cell_type": "code",
   "execution_count": 10,
   "metadata": {
    "colab": {},
    "colab_type": "code",
    "id": "Qt-L5ZsUhBfU"
   },
   "outputs": [],
   "source": [
    "def text_to_vec(text):\n",
    "    vector = []\n",
    "    tmp = process(process_pipeline, text=text)\n",
    "    for i in tmp:\n",
    "        if i in word2vec:\n",
    "            vector.append(word2vec[i])\n",
    "    return np.mean(vector, axis=0, dtype=np.float32)"
   ]
  },
  {
   "cell_type": "code",
   "execution_count": 11,
   "metadata": {
    "colab": {
     "base_uri": "https://localhost:8080/",
     "height": 104
    },
    "colab_type": "code",
    "id": "94Eq4SelhBfb",
    "outputId": "2af21dc1-59f2-4c9e-a6d6-70fb3b1bd625",
    "scrolled": true
   },
   "outputs": [
    {
     "name": "stderr",
     "output_type": "stream",
     "text": [
      "  0%|          | 0/50044 [00:00<?, ?it/s]/home/pavel/.local/lib/python3.6/site-packages/numpy/core/fromnumeric.py:3118: RuntimeWarning: Mean of empty slice.\n",
      "  out=out, **kwargs)\n",
      "/home/pavel/.local/lib/python3.6/site-packages/numpy/core/_methods.py:85: RuntimeWarning: invalid value encountered in true_divide\n",
      "  ret = ret.dtype.type(ret / rcount)\n",
      "100%|██████████| 50044/50044 [03:38<00:00, 229.24it/s]\n"
     ]
    }
   ],
   "source": [
    "txt_w2v = []\n",
    "for i in tqdm(txt):\n",
    "    emb = text_to_vec(i).tolist()\n",
    "    if(type(emb) == list):\n",
    "        txt_w2v.append(emb)\n",
    "del txt"
   ]
  },
  {
   "cell_type": "code",
   "execution_count": 12,
   "metadata": {
    "colab": {
     "base_uri": "https://localhost:8080/",
     "height": 206
    },
    "colab_type": "code",
    "id": "zrFd01dg-O3p",
    "outputId": "5ec74d31-2964-46c2-90be-f2f4302b4f31"
   },
   "outputs": [
    {
     "data": {
      "text/html": [
       "<div>\n",
       "<style scoped>\n",
       "    .dataframe tbody tr th:only-of-type {\n",
       "        vertical-align: middle;\n",
       "    }\n",
       "\n",
       "    .dataframe tbody tr th {\n",
       "        vertical-align: top;\n",
       "    }\n",
       "\n",
       "    .dataframe thead th {\n",
       "        text-align: right;\n",
       "    }\n",
       "</style>\n",
       "<table border=\"1\" class=\"dataframe\">\n",
       "  <thead>\n",
       "    <tr style=\"text-align: right;\">\n",
       "      <th></th>\n",
       "      <th>title</th>\n",
       "      <th>url</th>\n",
       "      <th>text</th>\n",
       "    </tr>\n",
       "  </thead>\n",
       "  <tbody>\n",
       "    <tr>\n",
       "      <th>0</th>\n",
       "      <td>Центробанк сообщил о сбое в системе быстрых пл...</td>\n",
       "      <td>https://lenta.ru/news/2019/04/07/sboy/</td>\n",
       "      <td>В системе быстрых платежей обнаружены техничес...</td>\n",
       "    </tr>\n",
       "    <tr>\n",
       "      <th>1</th>\n",
       "      <td>Названы победители Национальной премии бизнес-...</td>\n",
       "      <td>https://lenta.ru/news/2019/04/05/premia/</td>\n",
       "      <td>Лучшие российские специалисты в третий раз ста...</td>\n",
       "    </tr>\n",
       "    <tr>\n",
       "      <th>2</th>\n",
       "      <td>России предсказали замедление роста ВВП</td>\n",
       "      <td>https://lenta.ru/news/2019/04/05/gdpdown/</td>\n",
       "      <td>Всемирный банк понизил для России прогноз по р...</td>\n",
       "    </tr>\n",
       "    <tr>\n",
       "      <th>3</th>\n",
       "      <td>«Магнит» поборется с российским олигархом за «...</td>\n",
       "      <td>https://lenta.ru/news/2019/04/05/mangit_lenta/</td>\n",
       "      <td>Розничная сеть «Магнит» направила в марте друг...</td>\n",
       "    </tr>\n",
       "    <tr>\n",
       "      <th>4</th>\n",
       "      <td>Российские богачи отказались доверить банкам с...</td>\n",
       "      <td>https://lenta.ru/news/2019/04/05/cash_milliona...</td>\n",
       "      <td>В России насчитывается более 163 тысяч миллион...</td>\n",
       "    </tr>\n",
       "  </tbody>\n",
       "</table>\n",
       "</div>"
      ],
      "text/plain": [
       "                                               title  \\\n",
       "0  Центробанк сообщил о сбое в системе быстрых пл...   \n",
       "1  Названы победители Национальной премии бизнес-...   \n",
       "2            России предсказали замедление роста ВВП   \n",
       "3  «Магнит» поборется с российским олигархом за «...   \n",
       "4  Российские богачи отказались доверить банкам с...   \n",
       "\n",
       "                                                 url  \\\n",
       "0             https://lenta.ru/news/2019/04/07/sboy/   \n",
       "1           https://lenta.ru/news/2019/04/05/premia/   \n",
       "2          https://lenta.ru/news/2019/04/05/gdpdown/   \n",
       "3     https://lenta.ru/news/2019/04/05/mangit_lenta/   \n",
       "4  https://lenta.ru/news/2019/04/05/cash_milliona...   \n",
       "\n",
       "                                                text  \n",
       "0  В системе быстрых платежей обнаружены техничес...  \n",
       "1  Лучшие российские специалисты в третий раз ста...  \n",
       "2  Всемирный банк понизил для России прогноз по р...  \n",
       "3  Розничная сеть «Магнит» направила в марте друг...  \n",
       "4  В России насчитывается более 163 тысяч миллион...  "
      ]
     },
     "execution_count": 12,
     "metadata": {},
     "output_type": "execute_result"
    }
   ],
   "source": [
    "news = pd.read_csv('data/news.csv')\n",
    "news.head()"
   ]
  },
  {
   "cell_type": "code",
   "execution_count": 13,
   "metadata": {
    "colab": {
     "base_uri": "https://localhost:8080/",
     "height": 104
    },
    "colab_type": "code",
    "id": "3FcQoVJq-P71",
    "outputId": "9a89fac3-b062-4955-c1f4-44e69c91cf1d"
   },
   "outputs": [
    {
     "name": "stderr",
     "output_type": "stream",
     "text": [
      "100%|██████████| 10000/10000 [01:10<00:00, 141.17it/s]\n"
     ]
    }
   ],
   "source": [
    "titles_w2v = []\n",
    "for title in tqdm(news.loc[:, 'title']):\n",
    "    emb = text_to_vec(title).tolist()\n",
    "    if(type(emb) == list):\n",
    "        titles_w2v.append(emb)\n",
    "del news"
   ]
  },
  {
   "cell_type": "markdown",
   "metadata": {},
   "source": [
    "### Обучаем модели из sklearn по поиску анамалий"
   ]
  },
  {
   "cell_type": "code",
   "execution_count": 14,
   "metadata": {},
   "outputs": [],
   "source": [
    "from sklearn.covariance import EllipticEnvelope\n",
    "from sklearn.svm import OneClassSVM\n",
    "from sklearn.ensemble import IsolationForest\n",
    "from sklearn.neighbors import LocalOutlierFactor\n",
    "from sklearn.decomposition import PCA\n",
    "from sklearn.metrics import f1_score\n",
    "\n",
    "import matplotlib.pyplot as plt\n",
    "%matplotlib inline\n",
    "\n",
    "import warnings\n",
    "import time\n",
    "\n",
    "warnings.filterwarnings('ignore')"
   ]
  },
  {
   "cell_type": "code",
   "execution_count": 15,
   "metadata": {},
   "outputs": [],
   "source": [
    "def fitting_algorithms(data):\n",
    "    anomaly_algorithms = [('Robust covariance', EllipticEnvelope()),\n",
    "                          ('One-Class SVM', OneClassSVM()),\n",
    "                          ('Isolation Forest', IsolationForest()),\n",
    "                          ('Local Outlier Factor', LocalOutlierFactor())]\n",
    "\n",
    "\n",
    "\n",
    "    for name, algorithm in anomaly_algorithms:\n",
    "        if name != 'Local Outlier Factor':\n",
    "            start = time.time()\n",
    "            algorithm.fit(data)\n",
    "\n",
    "            print('fitting ' + name + ': ' + '{:.2f}'.format(time.time() - start) + 's')\n",
    "    \n",
    "    return anomaly_algorithms"
   ]
  },
  {
   "cell_type": "code",
   "execution_count": 16,
   "metadata": {},
   "outputs": [
    {
     "data": {
      "text/plain": [
       "IsolationForest(behaviour='old', bootstrap=False, contamination='legacy',\n",
       "        max_features=1.0, max_samples='auto', n_estimators=100,\n",
       "        n_jobs=None, random_state=None, verbose=0)"
      ]
     },
     "execution_count": 16,
     "metadata": {},
     "output_type": "execute_result"
    }
   ],
   "source": [
    "algorithm_name, algorithm = 'Isolation Forest', IsolationForest()\n",
    "algorithm.fit(txt_w2v)"
   ]
  },
  {
   "cell_type": "markdown",
   "metadata": {},
   "source": [
    "### Понижаем размерность для визуализации"
   ]
  },
  {
   "cell_type": "code",
   "execution_count": 17,
   "metadata": {},
   "outputs": [],
   "source": [
    "# понижаем размерность до 2d\n",
    "pca_2d = PCA(n_components=2)\n",
    "pca_2d.fit(txt_w2v + titles_w2v)\n",
    "txt_dcmp_2d = pca_2d.transform(txt_w2v)\n",
    "titles_dcmp_2d = pca_2d.transform(titles_w2v)"
   ]
  },
  {
   "cell_type": "code",
   "execution_count": 19,
   "metadata": {},
   "outputs": [
    {
     "data": {
      "image/png": "[encoded data removed]",
      "text/plain": [
       "<Figure size 432x288 with 1 Axes>"
      ]
     },
     "metadata": {
      "needs_background": "light"
     },
     "output_type": "display_data"
    }
   ],
   "source": [
    "pred = algorithm.predict(txt_w2v)\n",
    "\n",
    "plt.scatter(txt_dcmp_2d[:, 0], txt_dcmp_2d[:, 1],\n",
    "            color=['tab:orange' if l == 1 else 'tab:blue' for l in pred],\n",
    "            edgecolors='w', alpha=0.1)\n",
    "\n",
    "plt.scatter(titles_dcmp_2d[:, 0], titles_dcmp_2d[:, 1],\n",
    "                  color='tab:red', edgecolors='w', alpha=0.1)\n",
    "\n",
    "plt.show()"
   ]
  },
  {
   "cell_type": "markdown",
   "metadata": {},
   "source": [
    "### Посчитаем качество"
   ]
  },
  {
   "cell_type": "code",
   "execution_count": 20,
   "metadata": {},
   "outputs": [],
   "source": [
    "X, Y = [], []\n",
    "for i in txt_w2v:\n",
    "    X.append(i)\n",
    "    Y.append(1)\n",
    "    \n",
    "for i in titles_w2v:\n",
    "    X.append(i)\n",
    "    Y.append(0)\n",
    "\n",
    "x_train_variable, x_test_variable, y_train, y_test = train_test_split(X, Y, test_size = 0.15)"
   ]
  },
  {
   "cell_type": "code",
   "execution_count": 21,
   "metadata": {},
   "outputs": [
    {
     "name": "stdout",
     "output_type": "stream",
     "text": [
      "Isolation Forest | F1 score: 0.86484\n"
     ]
    }
   ],
   "source": [
    "pred = algorithm.predict(x_test_variable)\n",
    "y_pred = [1 if i == 1 else 0 for i in pred]\n",
    "\n",
    "print(algorithm_name + ' | F1 score: {:.5f}'.format(f1_score(y_test, y_pred)))"
   ]
  },
  {
   "cell_type": "markdown",
   "metadata": {},
   "source": [
    "### Полученный результат говорит о том, что алгоритм Isolation Forest хорошо кластеризовал заголовки с банки.ру. Теперь попробуем сильнее разнести вектора заголовков в пространстве. Это должно увеличить точность предсказаний. Для этого обучим небольшую нейросеть с триплет лосом."
   ]
  },
  {
   "cell_type": "markdown",
   "metadata": {},
   "source": [
    "## Попробуем разнести в пространстве наши вектора, для этого обучим нейросеть с триплет лосом."
   ]
  },
  {
   "cell_type": "code",
   "execution_count": 22,
   "metadata": {},
   "outputs": [
    {
     "name": "stdout",
     "output_type": "stream",
     "text": [
      "Вашу мысль,\n",
      "\n",
      "мечтающую на размягченном мозгу,\n",
      "\n",
      "как выжиревший лакей на засаленной кушетке,\n",
      "\n",
      "буду дразнить об окровавленный сердца лоскут:\n",
      "\n",
      "досыта изъиздеваюсь, нахальный и едкий.\n",
      "\n"
     ]
    }
   ],
   "source": [
    "# Добавим в аномалии текст не связанный с банковской тематикой. Например, Маяковского. (⊙_⊙)\n",
    "file = open(file='data/Mayakovsky.txt', mode='r', encoding='latin1')\n",
    "anom = [paragraph.encode('latin1').decode('cp1251') for paragraph in file]\n",
    "file.close()\n",
    "\n",
    "for line in anom[13:18]:\n",
    "    print(line)"
   ]
  },
  {
   "cell_type": "code",
   "execution_count": 23,
   "metadata": {},
   "outputs": [
    {
     "name": "stderr",
     "output_type": "stream",
     "text": [
      "100%|██████████| 61104/61104 [01:30<00:00, 676.28it/s] \n"
     ]
    }
   ],
   "source": [
    "anom_w2v = []\n",
    "for i in tqdm(anom):\n",
    "    emb = text_to_vec(i).tolist()\n",
    "    if(type(emb) == list):\n",
    "        anom_w2v.append(emb)\n",
    "del anom"
   ]
  },
  {
   "cell_type": "markdown",
   "metadata": {},
   "source": [
    "### Подготовка данных и обучение модели с триплет лосом, для лучшей кластеризации заголовков с банки.ру"
   ]
  },
  {
   "cell_type": "code",
   "execution_count": 24,
   "metadata": {},
   "outputs": [],
   "source": [
    "X, Y = [], []\n",
    "for i in txt_w2v:\n",
    "    X.append(i)\n",
    "    Y.append(1)\n",
    "    \n",
    "for i in titles_w2v + anom_w2v:\n",
    "    X.append(i)\n",
    "    Y.append(0)"
   ]
  },
  {
   "cell_type": "code",
   "execution_count": 25,
   "metadata": {},
   "outputs": [],
   "source": [
    "x_train_variable, x_test_variable, y_train, y_test = train_test_split(X, Y, test_size = 0.15)"
   ]
  },
  {
   "cell_type": "code",
   "execution_count": 26,
   "metadata": {},
   "outputs": [],
   "source": [
    "def parser(x, y):\n",
    "    features = {\"x\": x}\n",
    "    return features, y\n",
    "\n",
    "def parser_p(x):\n",
    "    features = {\"x\": x}\n",
    "    return features\n",
    "\n",
    "def train_input_fn():\n",
    "    dataset = tf.data.Dataset.from_tensor_slices((x_train_variable, y_train))\n",
    "    dataset = dataset.shuffle(buffer_size=len(x_train_variable))\n",
    "    dataset = dataset.batch(100)\n",
    "    dataset = dataset.map(parser)\n",
    "    dataset = dataset.repeat()\n",
    "    iterator = dataset.make_one_shot_iterator()\n",
    "    return iterator.get_next()\n",
    "\n",
    "def eval_input_fn():\n",
    "    dataset = tf.data.Dataset.from_tensor_slices((x_test_variable, y_test))\n",
    "    dataset = dataset.batch(100)\n",
    "    dataset = dataset.map(parser)\n",
    "    iterator = dataset.make_one_shot_iterator()\n",
    "    return iterator.get_next()\n",
    "\n",
    "def pred_input_fn():\n",
    "    dataset = tf.data.Dataset.from_tensor_slices((X_p))\n",
    "    dataset = dataset.batch(100)\n",
    "    dataset = dataset.map(parser_p)\n",
    "    iterator = dataset.make_one_shot_iterator()\n",
    "    return iterator.get_next()"
   ]
  },
  {
   "cell_type": "code",
   "execution_count": 31,
   "metadata": {},
   "outputs": [
    {
     "name": "stdout",
     "output_type": "stream",
     "text": [
      "INFO:tensorflow:Using config: {'_model_dir': 'custom', '_tf_random_seed': 123, '_save_summary_steps': 20, '_save_checkpoints_steps': 500, '_save_checkpoints_secs': None, '_session_config': allow_soft_placement: true\n",
      "graph_options {\n",
      "  rewrite_options {\n",
      "    meta_optimizer_iterations: ONE\n",
      "  }\n",
      "}\n",
      ", '_keep_checkpoint_max': 5, '_keep_checkpoint_every_n_hours': 10000, '_log_step_count_steps': 100, '_train_distribute': None, '_device_fn': None, '_protocol': None, '_eval_distribute': None, '_experimental_distribute': None, '_service': None, '_cluster_spec': <tensorflow.python.training.server_lib.ClusterSpec object at 0x7fb82b911400>, '_task_type': 'worker', '_task_id': 0, '_global_id_in_cluster': 0, '_master': '', '_evaluation_master': '', '_is_chief': True, '_num_ps_replicas': 0, '_num_worker_replicas': 1}\n",
      "WARNING:tensorflow:Estimator's model_fn (<function model_custom at 0x7fb868c57048>) includes params argument, but params are not passed to Estimator.\n",
      "INFO:tensorflow:Not using Distribute Coordinator.\n",
      "INFO:tensorflow:Running training and evaluation locally (non-distributed).\n",
      "INFO:tensorflow:Start train and evaluate loop. The evaluate will happen after every checkpoint. Checkpoint frequency is determined based on RunConfig arguments: save_checkpoints_steps 500 or save_checkpoints_secs None.\n",
      "INFO:tensorflow:Calling model_fn.\n"
     ]
    },
    {
     "ename": "NameError",
     "evalue": "name 'tf' is not defined",
     "output_type": "error",
     "traceback": [
      "\u001b[0;31m---------------------------------------------------------------------------\u001b[0m",
      "\u001b[0;31mNameError\u001b[0m                                 Traceback (most recent call last)",
      "\u001b[0;32m<ipython-input-31-8b325f14b86c>\u001b[0m in \u001b[0;36m<module>\u001b[0;34m\u001b[0m\n\u001b[1;32m      9\u001b[0m     \u001b[0mclassifier\u001b[0m\u001b[0;34m,\u001b[0m\u001b[0;34m\u001b[0m\u001b[0;34m\u001b[0m\u001b[0m\n\u001b[1;32m     10\u001b[0m     \u001b[0mtrain_spec\u001b[0m\u001b[0;34m=\u001b[0m\u001b[0mtf\u001b[0m\u001b[0;34m.\u001b[0m\u001b[0mestimator\u001b[0m\u001b[0;34m.\u001b[0m\u001b[0mTrainSpec\u001b[0m\u001b[0;34m(\u001b[0m\u001b[0minput_fn\u001b[0m\u001b[0;34m=\u001b[0m\u001b[0mtrain_input_fn\u001b[0m\u001b[0;34m,\u001b[0m \u001b[0mmax_steps\u001b[0m \u001b[0;34m=\u001b[0m \u001b[0;36m12000\u001b[0m\u001b[0;34m)\u001b[0m\u001b[0;34m,\u001b[0m\u001b[0;34m\u001b[0m\u001b[0;34m\u001b[0m\u001b[0m\n\u001b[0;32m---> 11\u001b[0;31m     \u001b[0meval_spec\u001b[0m\u001b[0;34m=\u001b[0m\u001b[0mtf\u001b[0m\u001b[0;34m.\u001b[0m\u001b[0mestimator\u001b[0m\u001b[0;34m.\u001b[0m\u001b[0mEvalSpec\u001b[0m\u001b[0;34m(\u001b[0m\u001b[0minput_fn\u001b[0m\u001b[0;34m=\u001b[0m \u001b[0meval_input_fn\u001b[0m\u001b[0;34m,\u001b[0m \u001b[0msteps\u001b[0m \u001b[0;34m=\u001b[0m \u001b[0;32mNone\u001b[0m\u001b[0;34m,\u001b[0m \u001b[0mstart_delay_secs\u001b[0m\u001b[0;34m=\u001b[0m\u001b[0;36m0\u001b[0m\u001b[0;34m,\u001b[0m \u001b[0mthrottle_secs\u001b[0m\u001b[0;34m=\u001b[0m\u001b[0;36m60\u001b[0m\u001b[0;34m)\u001b[0m\u001b[0;34m\u001b[0m\u001b[0;34m\u001b[0m\u001b[0m\n\u001b[0m\u001b[1;32m     12\u001b[0m )\n",
      "\u001b[0;32m~/.local/lib/python3.6/site-packages/tensorflow_estimator/python/estimator/training.py\u001b[0m in \u001b[0;36mtrain_and_evaluate\u001b[0;34m(estimator, train_spec, eval_spec)\u001b[0m\n\u001b[1;32m    469\u001b[0m         '(with task id 0).  Given task id {}'.format(config.task_id))\n\u001b[1;32m    470\u001b[0m \u001b[0;34m\u001b[0m\u001b[0m\n\u001b[0;32m--> 471\u001b[0;31m   \u001b[0;32mreturn\u001b[0m \u001b[0mexecutor\u001b[0m\u001b[0;34m.\u001b[0m\u001b[0mrun\u001b[0m\u001b[0;34m(\u001b[0m\u001b[0;34m)\u001b[0m\u001b[0;34m\u001b[0m\u001b[0;34m\u001b[0m\u001b[0m\n\u001b[0m\u001b[1;32m    472\u001b[0m \u001b[0;34m\u001b[0m\u001b[0m\n\u001b[1;32m    473\u001b[0m \u001b[0;34m\u001b[0m\u001b[0m\n",
      "\u001b[0;32m~/.local/lib/python3.6/site-packages/tensorflow_estimator/python/estimator/training.py\u001b[0m in \u001b[0;36mrun\u001b[0;34m(self)\u001b[0m\n\u001b[1;32m    609\u001b[0m         config.task_type != run_config_lib.TaskType.EVALUATOR):\n\u001b[1;32m    610\u001b[0m       \u001b[0mlogging\u001b[0m\u001b[0;34m.\u001b[0m\u001b[0minfo\u001b[0m\u001b[0;34m(\u001b[0m\u001b[0;34m'Running training and evaluation locally (non-distributed).'\u001b[0m\u001b[0;34m)\u001b[0m\u001b[0;34m\u001b[0m\u001b[0;34m\u001b[0m\u001b[0m\n\u001b[0;32m--> 611\u001b[0;31m       \u001b[0;32mreturn\u001b[0m \u001b[0mself\u001b[0m\u001b[0;34m.\u001b[0m\u001b[0mrun_local\u001b[0m\u001b[0;34m(\u001b[0m\u001b[0;34m)\u001b[0m\u001b[0;34m\u001b[0m\u001b[0;34m\u001b[0m\u001b[0m\n\u001b[0m\u001b[1;32m    612\u001b[0m \u001b[0;34m\u001b[0m\u001b[0m\n\u001b[1;32m    613\u001b[0m     \u001b[0;31m# Distributed case.\u001b[0m\u001b[0;34m\u001b[0m\u001b[0;34m\u001b[0m\u001b[0;34m\u001b[0m\u001b[0m\n",
      "\u001b[0;32m~/.local/lib/python3.6/site-packages/tensorflow_estimator/python/estimator/training.py\u001b[0m in \u001b[0;36mrun_local\u001b[0;34m(self)\u001b[0m\n\u001b[1;32m    710\u001b[0m         \u001b[0mmax_steps\u001b[0m\u001b[0;34m=\u001b[0m\u001b[0mself\u001b[0m\u001b[0;34m.\u001b[0m\u001b[0m_train_spec\u001b[0m\u001b[0;34m.\u001b[0m\u001b[0mmax_steps\u001b[0m\u001b[0;34m,\u001b[0m\u001b[0;34m\u001b[0m\u001b[0;34m\u001b[0m\u001b[0m\n\u001b[1;32m    711\u001b[0m         \u001b[0mhooks\u001b[0m\u001b[0;34m=\u001b[0m\u001b[0mtrain_hooks\u001b[0m\u001b[0;34m,\u001b[0m\u001b[0;34m\u001b[0m\u001b[0;34m\u001b[0m\u001b[0m\n\u001b[0;32m--> 712\u001b[0;31m         saving_listeners=saving_listeners)\n\u001b[0m\u001b[1;32m    713\u001b[0m \u001b[0;34m\u001b[0m\u001b[0m\n\u001b[1;32m    714\u001b[0m     eval_result = listener_for_eval.eval_result or _EvalResult(\n",
      "\u001b[0;32m~/.local/lib/python3.6/site-packages/tensorflow_estimator/python/estimator/estimator.py\u001b[0m in \u001b[0;36mtrain\u001b[0;34m(self, input_fn, hooks, steps, max_steps, saving_listeners)\u001b[0m\n\u001b[1;32m    356\u001b[0m \u001b[0;34m\u001b[0m\u001b[0m\n\u001b[1;32m    357\u001b[0m       \u001b[0msaving_listeners\u001b[0m \u001b[0;34m=\u001b[0m \u001b[0m_check_listeners_type\u001b[0m\u001b[0;34m(\u001b[0m\u001b[0msaving_listeners\u001b[0m\u001b[0;34m)\u001b[0m\u001b[0;34m\u001b[0m\u001b[0;34m\u001b[0m\u001b[0m\n\u001b[0;32m--> 358\u001b[0;31m       \u001b[0mloss\u001b[0m \u001b[0;34m=\u001b[0m \u001b[0mself\u001b[0m\u001b[0;34m.\u001b[0m\u001b[0m_train_model\u001b[0m\u001b[0;34m(\u001b[0m\u001b[0minput_fn\u001b[0m\u001b[0;34m,\u001b[0m \u001b[0mhooks\u001b[0m\u001b[0;34m,\u001b[0m \u001b[0msaving_listeners\u001b[0m\u001b[0;34m)\u001b[0m\u001b[0;34m\u001b[0m\u001b[0;34m\u001b[0m\u001b[0m\n\u001b[0m\u001b[1;32m    359\u001b[0m       \u001b[0mlogging\u001b[0m\u001b[0;34m.\u001b[0m\u001b[0minfo\u001b[0m\u001b[0;34m(\u001b[0m\u001b[0;34m'Loss for final step: %s.'\u001b[0m\u001b[0;34m,\u001b[0m \u001b[0mloss\u001b[0m\u001b[0;34m)\u001b[0m\u001b[0;34m\u001b[0m\u001b[0;34m\u001b[0m\u001b[0m\n\u001b[1;32m    360\u001b[0m       \u001b[0;32mreturn\u001b[0m \u001b[0mself\u001b[0m\u001b[0;34m\u001b[0m\u001b[0;34m\u001b[0m\u001b[0m\n",
      "\u001b[0;32m~/.local/lib/python3.6/site-packages/tensorflow_estimator/python/estimator/estimator.py\u001b[0m in \u001b[0;36m_train_model\u001b[0;34m(self, input_fn, hooks, saving_listeners)\u001b[0m\n\u001b[1;32m   1122\u001b[0m       \u001b[0;32mreturn\u001b[0m \u001b[0mself\u001b[0m\u001b[0;34m.\u001b[0m\u001b[0m_train_model_distributed\u001b[0m\u001b[0;34m(\u001b[0m\u001b[0minput_fn\u001b[0m\u001b[0;34m,\u001b[0m \u001b[0mhooks\u001b[0m\u001b[0;34m,\u001b[0m \u001b[0msaving_listeners\u001b[0m\u001b[0;34m)\u001b[0m\u001b[0;34m\u001b[0m\u001b[0;34m\u001b[0m\u001b[0m\n\u001b[1;32m   1123\u001b[0m     \u001b[0;32melse\u001b[0m\u001b[0;34m:\u001b[0m\u001b[0;34m\u001b[0m\u001b[0;34m\u001b[0m\u001b[0m\n\u001b[0;32m-> 1124\u001b[0;31m       \u001b[0;32mreturn\u001b[0m \u001b[0mself\u001b[0m\u001b[0;34m.\u001b[0m\u001b[0m_train_model_default\u001b[0m\u001b[0;34m(\u001b[0m\u001b[0minput_fn\u001b[0m\u001b[0;34m,\u001b[0m \u001b[0mhooks\u001b[0m\u001b[0;34m,\u001b[0m \u001b[0msaving_listeners\u001b[0m\u001b[0;34m)\u001b[0m\u001b[0;34m\u001b[0m\u001b[0;34m\u001b[0m\u001b[0m\n\u001b[0m\u001b[1;32m   1125\u001b[0m \u001b[0;34m\u001b[0m\u001b[0m\n\u001b[1;32m   1126\u001b[0m   \u001b[0;32mdef\u001b[0m \u001b[0m_train_model_default\u001b[0m\u001b[0;34m(\u001b[0m\u001b[0mself\u001b[0m\u001b[0;34m,\u001b[0m \u001b[0minput_fn\u001b[0m\u001b[0;34m,\u001b[0m \u001b[0mhooks\u001b[0m\u001b[0;34m,\u001b[0m \u001b[0msaving_listeners\u001b[0m\u001b[0;34m)\u001b[0m\u001b[0;34m:\u001b[0m\u001b[0;34m\u001b[0m\u001b[0;34m\u001b[0m\u001b[0m\n",
      "\u001b[0;32m~/.local/lib/python3.6/site-packages/tensorflow_estimator/python/estimator/estimator.py\u001b[0m in \u001b[0;36m_train_model_default\u001b[0;34m(self, input_fn, hooks, saving_listeners)\u001b[0m\n\u001b[1;32m   1152\u001b[0m       \u001b[0mworker_hooks\u001b[0m\u001b[0;34m.\u001b[0m\u001b[0mextend\u001b[0m\u001b[0;34m(\u001b[0m\u001b[0minput_hooks\u001b[0m\u001b[0;34m)\u001b[0m\u001b[0;34m\u001b[0m\u001b[0;34m\u001b[0m\u001b[0m\n\u001b[1;32m   1153\u001b[0m       estimator_spec = self._call_model_fn(\n\u001b[0;32m-> 1154\u001b[0;31m           features, labels, model_fn_lib.ModeKeys.TRAIN, self.config)\n\u001b[0m\u001b[1;32m   1155\u001b[0m       \u001b[0mglobal_step_tensor\u001b[0m \u001b[0;34m=\u001b[0m \u001b[0mtraining_util\u001b[0m\u001b[0;34m.\u001b[0m\u001b[0mget_global_step\u001b[0m\u001b[0;34m(\u001b[0m\u001b[0mg\u001b[0m\u001b[0;34m)\u001b[0m\u001b[0;34m\u001b[0m\u001b[0;34m\u001b[0m\u001b[0m\n\u001b[1;32m   1156\u001b[0m       return self._train_with_estimator_spec(estimator_spec, worker_hooks,\n",
      "\u001b[0;32m~/.local/lib/python3.6/site-packages/tensorflow_estimator/python/estimator/estimator.py\u001b[0m in \u001b[0;36m_call_model_fn\u001b[0;34m(self, features, labels, mode, config)\u001b[0m\n\u001b[1;32m   1110\u001b[0m \u001b[0;34m\u001b[0m\u001b[0m\n\u001b[1;32m   1111\u001b[0m     \u001b[0mlogging\u001b[0m\u001b[0;34m.\u001b[0m\u001b[0minfo\u001b[0m\u001b[0;34m(\u001b[0m\u001b[0;34m'Calling model_fn.'\u001b[0m\u001b[0;34m)\u001b[0m\u001b[0;34m\u001b[0m\u001b[0;34m\u001b[0m\u001b[0m\n\u001b[0;32m-> 1112\u001b[0;31m     \u001b[0mmodel_fn_results\u001b[0m \u001b[0;34m=\u001b[0m \u001b[0mself\u001b[0m\u001b[0;34m.\u001b[0m\u001b[0m_model_fn\u001b[0m\u001b[0;34m(\u001b[0m\u001b[0mfeatures\u001b[0m\u001b[0;34m=\u001b[0m\u001b[0mfeatures\u001b[0m\u001b[0;34m,\u001b[0m \u001b[0;34m**\u001b[0m\u001b[0mkwargs\u001b[0m\u001b[0;34m)\u001b[0m\u001b[0;34m\u001b[0m\u001b[0;34m\u001b[0m\u001b[0m\n\u001b[0m\u001b[1;32m   1113\u001b[0m     \u001b[0mlogging\u001b[0m\u001b[0;34m.\u001b[0m\u001b[0minfo\u001b[0m\u001b[0;34m(\u001b[0m\u001b[0;34m'Done calling model_fn.'\u001b[0m\u001b[0;34m)\u001b[0m\u001b[0;34m\u001b[0m\u001b[0;34m\u001b[0m\u001b[0m\n\u001b[1;32m   1114\u001b[0m \u001b[0;34m\u001b[0m\u001b[0m\n",
      "\u001b[0;32m~/projects/python/fintech_project/utils/model.py\u001b[0m in \u001b[0;36mmodel_custom\u001b[0;34m(features, labels, mode, params)\u001b[0m\n\u001b[1;32m      3\u001b[0m \u001b[0;32mdef\u001b[0m \u001b[0mmodel_custom\u001b[0m\u001b[0;34m(\u001b[0m\u001b[0mfeatures\u001b[0m\u001b[0;34m,\u001b[0m \u001b[0mlabels\u001b[0m\u001b[0;34m,\u001b[0m \u001b[0mmode\u001b[0m\u001b[0;34m,\u001b[0m \u001b[0mparams\u001b[0m\u001b[0;34m)\u001b[0m\u001b[0;34m:\u001b[0m\u001b[0;34m\u001b[0m\u001b[0;34m\u001b[0m\u001b[0m\n\u001b[1;32m      4\u001b[0m \u001b[0;34m\u001b[0m\u001b[0m\n\u001b[0;32m----> 5\u001b[0;31m     \u001b[0minputs\u001b[0m \u001b[0;34m=\u001b[0m \u001b[0mtf\u001b[0m\u001b[0;34m.\u001b[0m\u001b[0mlayers\u001b[0m\u001b[0;34m.\u001b[0m\u001b[0mdense\u001b[0m\u001b[0;34m(\u001b[0m\u001b[0minputs\u001b[0m\u001b[0;34m=\u001b[0m\u001b[0mfeatures\u001b[0m\u001b[0;34m[\u001b[0m\u001b[0;34m'x'\u001b[0m\u001b[0;34m]\u001b[0m\u001b[0;34m,\u001b[0m \u001b[0munits\u001b[0m\u001b[0;34m=\u001b[0m\u001b[0;36m150\u001b[0m\u001b[0;34m,\u001b[0m \u001b[0mactivation\u001b[0m\u001b[0;34m=\u001b[0m\u001b[0mtf\u001b[0m\u001b[0;34m.\u001b[0m\u001b[0mnn\u001b[0m\u001b[0;34m.\u001b[0m\u001b[0mrelu\u001b[0m\u001b[0;34m)\u001b[0m\u001b[0;34m\u001b[0m\u001b[0;34m\u001b[0m\u001b[0m\n\u001b[0m\u001b[1;32m      6\u001b[0m \u001b[0;34m\u001b[0m\u001b[0m\n\u001b[1;32m      7\u001b[0m \u001b[0;34m\u001b[0m\u001b[0m\n",
      "\u001b[0;31mNameError\u001b[0m: name 'tf' is not defined"
     ]
    }
   ],
   "source": [
    "config = tf.estimator.RunConfig(tf_random_seed=123,\n",
    "                                save_checkpoints_steps=500,\n",
    "                                model_dir='custom',\n",
    "                                save_summary_steps=20)\n",
    "classifier = tf.estimator.Estimator(model_fn=model_custom,\n",
    "                                         config=config)\n",
    "\n",
    "tf.estimator.train_and_evaluate(\n",
    "    classifier,\n",
    "    train_spec=tf.estimator.TrainSpec(input_fn=train_input_fn, max_steps = 12000),\n",
    "    eval_spec=tf.estimator.EvalSpec(input_fn= eval_input_fn, steps = None, start_delay_secs=0, throttle_secs=60)\n",
    ")"
   ]
  },
  {
   "cell_type": "markdown",
   "metadata": {},
   "source": [
    "### Проганяем данные через обученную модель"
   ]
  },
  {
   "cell_type": "code",
   "execution_count": null,
   "metadata": {},
   "outputs": [],
   "source": [
    "X_p = txt_w2v\n",
    "txt_em, txt_em_norm = [], []\n",
    "prediction = classifier.predict(pred_input_fn)\n",
    "for i in range(len(X_p)):\n",
    "    txt_em.append(next(prediction))\n",
    "\n",
    "for i in range(len(X_p)):\n",
    "    txt_em_norm.append(txt_em[i]['embeddings'])"
   ]
  },
  {
   "cell_type": "code",
   "execution_count": null,
   "metadata": {},
   "outputs": [],
   "source": [
    "X_p = titles_w2v\n",
    "titles_em, titles_em_norm = [], []\n",
    "prediction = classifier.predict(pred_input_fn)\n",
    "for i in range(len(X_p)):\n",
    "    titles_em.append(next(prediction))\n",
    "\n",
    "for i in range(len(X_p)):\n",
    "    titles_em_norm.append(titles_em[i]['embeddings'])"
   ]
  },
  {
   "cell_type": "code",
   "execution_count": null,
   "metadata": {},
   "outputs": [],
   "source": [
    "X_p = anom_w2v\n",
    "anom_em, anom_em_norm = [], []\n",
    "prediction = classifier.predict(pred_input_fn)\n",
    "for i in range(len(X_p)):\n",
    "    anom_em.append(next(prediction))\n",
    "\n",
    "for i in range(len(X_p)):\n",
    "    anom_em_norm.append(anom_em[i]['embeddings'])"
   ]
  },
  {
   "cell_type": "markdown",
   "metadata": {},
   "source": [
    "### Обучаем модели из sklearn по поиску анамалий на векторах, которые мы получили"
   ]
  },
  {
   "cell_type": "code",
   "execution_count": null,
   "metadata": {},
   "outputs": [],
   "source": [
    "anomaly_algorithms = fitting_algorithms(txt_em_norm)"
   ]
  },
  {
   "cell_type": "markdown",
   "metadata": {},
   "source": [
    "### Понижаем размерность для визуализации"
   ]
  },
  {
   "cell_type": "code",
   "execution_count": null,
   "metadata": {},
   "outputs": [],
   "source": [
    "# понижаем размерность до 2d\n",
    "pca_2d = PCA(n_components=2)\n",
    "pca_2d.fit(txt_em_norm + titles_em_norm + anom_em_norm)\n",
    "txt_dcmp_2d = pca_2d.transform(txt_em_norm)\n",
    "titles_dcmp_2d = pca_2d.transform(titles_em_norm)\n",
    "anom_dcmp_2d = pca_2d.transform(anom_em_norm)\n",
    "\n",
    "# понижаем размерность до 3d\n",
    "pca_3d = PCA(n_components=3)\n",
    "pca_3d.fit(txt_em_norm + titles_em_norm + anom_em_norm)\n",
    "txt_dcmp_3d = pca_3d.transform(txt_em_norm)\n",
    "titles_dcmp_3d = pca_3d.transform(titles_em_norm)\n",
    "anom_dcmp_3d = pca_3d.transform(anom_em_norm)"
   ]
  },
  {
   "cell_type": "code",
   "execution_count": null,
   "metadata": {},
   "outputs": [],
   "source": [
    "fig, axs = plt.subplots(2, 2, figsize=(20, 16))\n",
    "\n",
    "n, i, j = 0, 0, 0\n",
    "for name, algorithm in anomaly_algorithms:\n",
    "    axs[i, j].set(title=name)\n",
    "    print(name + ' preparing...')\n",
    "    \n",
    "    if name != \"Local Outlier Factor\":\n",
    "        pred = algorithm.predict(txt_em_norm)\n",
    "    else:\n",
    "        pred = algorithm.fit_predict(txt_em_norm)\n",
    "        \n",
    "    axs[i, j].scatter(txt_dcmp_2d[:, 0], txt_dcmp_2d[:, 1],\n",
    "                      color=['tab:orange' if l == 1 else 'tab:blue' for l in pred],\n",
    "                      alpha=0.1)\n",
    "    \n",
    "    axs[i, j].scatter(titles_dcmp_2d[:, 0], titles_dcmp_2d[:, 1],\n",
    "                      color='tab:red', alpha=0.1)\n",
    "    \n",
    "    n += 1\n",
    "    i, j = n // 2, n % 2\n",
    "\n",
    "plt.show()"
   ]
  },
  {
   "cell_type": "code",
   "execution_count": null,
   "metadata": {},
   "outputs": [],
   "source": [
    "X_p = x_test_variable\n",
    "test_em, test_em_norm = [], []\n",
    "prediction = classifier.predict(pred_input_fn)\n",
    "for i in range(len(X_p)):\n",
    "    test_em.append(next(prediction))\n",
    "\n",
    "for i in range(len(X_p)):\n",
    "    test_em_norm.append(test_em[i]['embeddings'])\n",
    "\n",
    "for name, algorithm in anomaly_algorithms:\n",
    "    if name != \"Local Outlier Factor\":\n",
    "        pred = algorithm.predict(test_em_norm)\n",
    "        y_pred = [1 if i == 1 else 0 for i in pred]\n",
    "\n",
    "        print(name + ' | F1 score: {:.5f}'.format(f1_score(y_test, y_pred)))"
   ]
  }
 ],
 "metadata": {
  "accelerator": "GPU",
  "colab": {
   "name": "w2v.ipynb",
   "provenance": [],
   "version": "0.3.2"
  },
  "kernelspec": {
   "display_name": "Python 3",
   "language": "python",
   "name": "python3"
  },
  "language_info": {
   "codemirror_mode": {
    "name": "ipython",
    "version": 3
   },
   "file_extension": ".py",
   "mimetype": "text/x-python",
   "name": "python",
   "nbconvert_exporter": "python",
   "pygments_lexer": "ipython3",
   "version": "3.6.7"
  }
 },
 "nbformat": 4,
 "nbformat_minor": 1
}
